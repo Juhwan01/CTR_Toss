{
 "cells": [
  {
   "cell_type": "markdown",
   "metadata": {},
   "source": [
    "## Google 드라이브 파일 다운로더 (gdown 사용)\n",
    "\n",
    "이 노트북은 `gdown` 라이브러리를 사용하여 Google 드라이브의 파일을 안정적으로 다운로드합니다. 웹페이지가 저장되는 문제를 해결한 버전입니다.\n",
    "\n",
    "### 사용 방법\n",
    "\n",
    "1. **파일 ID 찾기**\n",
    "   - 다운로드할 구글 드라이브 파일에서 **`공유`** 버튼을 클릭합니다.\n",
    "   - 액세스 권한을 **`링크가 있는 모든 사용자`**로 변경합니다.\n",
    "   - **`링크 복사`**를 클릭하여 공유 링크를 얻습니다.\n",
    "   - 복사된 링크는 보통 이런 형식입니다: `https://drive.google.com/file/d/FILE_ID/view?usp=sharing`\n",
    "   - 여기서 `d/`와 `/view` 사이에 있는 긴 문자열이 **파일 ID**입니다.\n",
    "\n",
    "2. **아래 코드 셀 실행하기**\n",
    "   - `file_id_to_download` 변수에 위에서 찾은 **파일 ID**를 붙여넣습니다.\n",
    "   - `destination_path`에 **저장할 폴더와 파일 이름**을 모두 포함하여 지정합니다. (예: `data/train.parquet`)\n",
    "   - 코드 셀을 실행 (Ctrl+Enter 또는 Shift+Enter)하면 다운로드가 시작됩니다."
   ]
  },
  {
   "cell_type": "code",
   "execution_count": 7,
   "metadata": {},
   "outputs": [],
   "source": [
    "# --- 1. 설정 ---\n",
    "\n",
    "# ◀◀◀ 여기에 본인의 파일 ID를 입력하세요!\n",
    "file_id_to_download = '1twNg7QFHNDeKBNnWCq3O-5MFbxYhrZ95' \n",
    "\n",
    "# ◀◀◀ 저장할 경로와 '파일 이름'까지 정확하게 지정해야 합니다! \n",
    "destination_path = 'data/train.parquet' \n"
   ]
  },
  {
   "cell_type": "code",
   "execution_count": 8,
   "metadata": {},
   "outputs": [
    {
     "name": "stderr",
     "output_type": "stream",
     "text": [
      "Downloading...\n",
      "From (original): https://drive.google.com/uc?id=1twNg7QFHNDeKBNnWCq3O-5MFbxYhrZ95\n",
      "From (redirected): https://drive.google.com/uc?id=1twNg7QFHNDeKBNnWCq3O-5MFbxYhrZ95&confirm=t&uuid=04e74b66-a8ef-48da-89a9-102a04379401\n",
      "To: /workspace/CTR_Toss/data/train.parquet\n",
      "100%|██████████| 8.79G/8.79G [02:16<00:00, 64.5MB/s]\n"
     ]
    },
    {
     "data": {
      "text/plain": [
       "'data/train.parquet'"
      ]
     },
     "execution_count": 8,
     "metadata": {},
     "output_type": "execute_result"
    }
   ],
   "source": [
    "gdown.download(id=file_id_to_download, output=destination_path, quiet=False)"
   ]
  },
  {
   "cell_type": "code",
   "execution_count": 3,
   "metadata": {},
   "outputs": [],
   "source": [
    "# --- 1. 설정 ---\n",
    "\n",
    "# ◀◀◀ 여기에 본인의 파일 ID를 입력하세요!\n",
    "file_id_to_download = '1ZjEXz_XarudcfqfoC7hCel2hg96AW4GG' \n",
    "\n",
    "# ◀◀◀ 저장할 경로와 '파일 이름'까지 정확하게 지정해야 합니다! \n",
    "destination_path = 'data/test.parquet' "
   ]
  },
  {
   "cell_type": "code",
   "execution_count": 4,
   "metadata": {},
   "outputs": [
    {
     "name": "stderr",
     "output_type": "stream",
     "text": [
      "Downloading...\n",
      "From (original): https://drive.google.com/uc?id=1ZjEXz_XarudcfqfoC7hCel2hg96AW4GG\n",
      "From (redirected): https://drive.google.com/uc?id=1ZjEXz_XarudcfqfoC7hCel2hg96AW4GG&confirm=t&uuid=0b68ce5c-d377-4544-9c90-3bbf49b24fcf\n",
      "To: /workspace/CTR_Toss/data/test.parquet\n",
      "100%|██████████| 1.28G/1.28G [00:22<00:00, 56.6MB/s]\n"
     ]
    },
    {
     "data": {
      "text/plain": [
       "'data/test.parquet'"
      ]
     },
     "execution_count": 4,
     "metadata": {},
     "output_type": "execute_result"
    }
   ],
   "source": [
    "gdown.download(id=file_id_to_download, output=destination_path, quiet=False)"
   ]
  },
  {
   "cell_type": "code",
   "execution_count": 5,
   "metadata": {},
   "outputs": [],
   "source": [
    "# --- 1. 설정 ---\n",
    "# ◀◀◀ 여기에 본인의 파일 ID를 입력하세요!\n",
    "file_id_to_download = '1csaB5JN_LDbSTQrIci-4MbJfVuhbDNFf' \n",
    "\n",
    "# ◀◀◀ 저장할 경로와 '파일 이름'까지 정확하게 지정해야 합니다! \n",
    "destination_path = 'data/submission.csv' "
   ]
  },
  {
   "cell_type": "code",
   "execution_count": 6,
   "metadata": {},
   "outputs": [
    {
     "name": "stderr",
     "output_type": "stream",
     "text": [
      "Downloading...\n",
      "From: https://drive.google.com/uc?id=1csaB5JN_LDbSTQrIci-4MbJfVuhbDNFf\n",
      "To: /workspace/CTR_Toss/data/submission.csv\n",
      "100%|██████████| 22.9M/22.9M [00:00<00:00, 45.4MB/s]\n"
     ]
    },
    {
     "data": {
      "text/plain": [
       "'data/submission.csv'"
      ]
     },
     "execution_count": 6,
     "metadata": {},
     "output_type": "execute_result"
    }
   ],
   "source": [
    "gdown.download(id=file_id_to_download, output=destination_path, quiet=False)"
   ]
  },
  {
   "cell_type": "code",
   "execution_count": null,
   "metadata": {},
   "outputs": [],
   "source": []
  }
 ],
 "metadata": {
  "kernelspec": {
   "display_name": "Python 3",
   "language": "python",
   "name": "python3"
  },
  "language_info": {
   "codemirror_mode": {
    "name": "ipython",
    "version": 3
   },
   "file_extension": ".py",
   "mimetype": "text/x-python",
   "name": "python",
   "nbconvert_exporter": "python",
   "pygments_lexer": "ipython3",
   "version": "3.11.11"
  }
 },
 "nbformat": 4,
 "nbformat_minor": 4
}
